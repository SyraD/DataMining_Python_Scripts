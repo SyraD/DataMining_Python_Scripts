{
 "cells": [
  {
   "cell_type": "code",
   "execution_count": null,
   "metadata": {
    "collapsed": true
   },
   "outputs": [],
   "source": [
    "#http://www.tutorialspoint.com/python/python_classes_objects.htm\n",
    "#http://stackoverflow.com/questions/9542738/python-find-in-list"
   ]
  },
  {
   "cell_type": "markdown",
   "metadata": {},
   "source": [
    "## Authenticate"
   ]
  },
  {
   "cell_type": "code",
   "execution_count": 80,
   "metadata": {
    "collapsed": false
   },
   "outputs": [
    {
     "name": "stdout",
     "output_type": "stream",
     "text": [
      "<twitter.api.Twitter object at 0x00000000039E3668> you have authentication!\n"
     ]
    }
   ],
   "source": [
    "import twitter  #https://github.com/sixohsix/twitter\n",
    "\n",
    "app_key='sM1lZ8ks5sRS7P6kwnGGEppqa'      #REPLACE 'APP_KEY' WITH YOUR APP KEY, ETC., IN THE NEXT 4 LINES\n",
    "app_secret='SzUYZndDyRuhecCRskS1ffGJ8Ech0uHQqRGR9atBN14HuG1WG0'\n",
    "oauth_token='2303293255-j1KPtFegMtNulKQlhzu7A4mnPRlC5SjtriBl0iR'\n",
    "oauth_token_secret='9PnyiZARMmTOJ2B0w1B9YjZaLbuQVjAlXuRLlbulUg1AV'\n",
    "\n",
    "## authenticate with Twitter via Twitter module\n",
    "auth = twitter.oauth.OAuth(oauth_token, oauth_token_secret,\n",
    "                             app_key, app_secret)\n",
    "twitter_api = twitter.Twitter(auth=auth)\n",
    "print twitter_api, 'you have authentication!'"
   ]
  },
  {
   "cell_type": "markdown",
   "metadata": {},
   "source": [
    "## Search\n",
    "Choose one search type:"
   ]
  },
  {
   "cell_type": "code",
   "execution_count": 45,
   "metadata": {
    "collapsed": true
   },
   "outputs": [],
   "source": [
    "## search twitter for keyword\n",
    "json_output = twitter_api.search.tweets(q='curiositybits', count = 2)"
   ]
  },
  {
   "cell_type": "code",
   "execution_count": 2,
   "metadata": {
    "collapsed": true
   },
   "outputs": [],
   "source": [
    "#download user timeline by screenname\n",
    "json_output = twitter_api.statuses.user_timeline(screen_name=\"torok_tomi\", count = 2)"
   ]
  },
  {
   "cell_type": "markdown",
   "metadata": {},
   "source": [
    "##Classes"
   ]
  },
  {
   "cell_type": "code",
   "execution_count": 74,
   "metadata": {
    "collapsed": true
   },
   "outputs": [],
   "source": [
    "## Tweet class\n",
    "class Tweet:\n",
    "   'Common base class for all Tweets'\n",
    "\n",
    "   def __init__(self, tweet_json):\n",
    "      self.tweetID = tweet_json[u'id']\n",
    "      self.text = tweet_json[u'text'].encode('utf-8')\n",
    "      self.retweet_count = tweet_json[u'retweet_count']\n",
    "      self.fav_count = tweet_json[u'favorite_count']\n",
    "      self.entities_list = tweet_json[u'entities']\n",
    "      self.url_list = tweet_json[u'entities'][u'urls']\n",
    "      self. hashtag_list =  tweet_json[u'entities'][u'hashtags']\n",
    "      self.mentions_list = tweet_json[u'entities'][u'user_mentions']\n",
    "      self.coordinates = tweet_json[u'coordinates']\n",
    "        \n",
    "   def display_all(self):\n",
    "      print self.text, self.retweet_count, self.fav_count \n",
    "\n",
    "class User:\n",
    "   'Common base class for all Users' #(for user and from user)\n",
    "\n",
    "   def __init__(self, tweet_json):\n",
    "      self.screen_name = 'screen_name'\n",
    "      self.id = 00\n",
    "      self.followers_count = 00\n",
    "      self.friends_count = 00\n",
    "      self.listed_count = 00\n",
    "      self.statuses_count = 00\n",
    "      self.description = 'description'\n",
    "      self.location = 'none'\n",
    "      self.created_at = 'none'     \n",
    "    \n",
    "class From_User(User):\n",
    "   'Subclass of User, the user the tweet is from' #(for user and from user)\n",
    "\n",
    "   def __init__(self, tweet_json):\n",
    "      self.screen_name =tweet_json['user']['screen_name']\n",
    "      self.id = tweet_json['user']['id'] \n",
    "      self.followers_count =tweet_json['user']['followers_count']\n",
    "      self.friends_count =tweet_json['user']['friends_count']  \n",
    "      self.listed_count =tweet_json['user']['listed_count']\n",
    "      self.statuses_count = tweet_json['user']['statuses_count'] \n",
    "      self.description = tweet_json['user']['description'] .encode('utf-8')\n",
    "      self.location = tweet_json['user']['location'] \n",
    "      self.created_at =  tweet_json['user']['created_at'] \n",
    "   \n",
    "   def display_some(self):\n",
    "      print self.screen_name, self.id, self.followers_count \n",
    "\n",
    "\n",
    "##TODO create Other_User \n",
    "class Other_User(User):\n",
    "   'Subclass of User, users from retweet or in mention' #(for user and from user)\n",
    "\n",
    "   def __init__(self, tweet_json):\n",
    "      self.screen_name = 'screen_name'\n",
    "      self.id = 00\n",
    "      self.followers_count = 00\n",
    "      self.friends_count = 00\n",
    "      self.listed_count = 00\n",
    "      self.statuses_count = 00\n",
    "      self.description = 'description'\n",
    "      self.location = 'none'\n",
    "      self.created_at = 'none' \n",
    "        "
   ]
  },
  {
   "cell_type": "markdown",
   "metadata": {},
   "source": [
    "##Helper Methods to Create Tweet_List with Tweet Class"
   ]
  },
  {
   "cell_type": "code",
   "execution_count": 75,
   "metadata": {
    "collapsed": true
   },
   "outputs": [],
   "source": [
    "## selects output and sends sends to Tweet class, return list to classifyJSONtype()\n",
    "def Tweet_from_TwitterReesponseObject(json_output):\n",
    "    ## create tweet object for each status and save to a list of tweets\n",
    "    tweet_list = []\n",
    "    for i in range( len(json_output['statuses'])):\n",
    "        tweet_list.append(Tweet(json_output['statuses'][i]))\n",
    "    return tweet_list\n",
    "\n",
    "def Tweet_from_TwitterListResponse(json_output):\n",
    "    ## create tweet object for each status and save to a list of tweets\n",
    "    tweet_list = []\n",
    "    print \"HI\"\n",
    "    for i in range(len(json_output)):\n",
    "        tweet_list.append(Tweet(json_output[i]))\n",
    "    return tweet_list"
   ]
  },
  {
   "cell_type": "code",
   "execution_count": 76,
   "metadata": {
    "collapsed": false
   },
   "outputs": [
    {
     "name": "stdout",
     "output_type": "stream",
     "text": [
      "dictionary\n"
     ]
    },
    {
     "data": {
      "text/plain": [
       "[<__main__.Tweet instance at 0x00000000038F5508>,\n",
       " <__main__.Tweet instance at 0x00000000038F5048>]"
      ]
     },
     "execution_count": 76,
     "metadata": {},
     "output_type": "execute_result"
    }
   ],
   "source": [
    "## determines the type of raw_output received from twitter\n",
    "## sends to correct formatter -> tweet class -> returns list to  formatter -> returns list to classifyJSONtype\n",
    "def classifyJSONtype(json_output):\n",
    "    vartype_tmp = str(type(json_output)).strip('<>').split(' ')\n",
    "    vartype =str(vartype_tmp[1])   \n",
    "    if 'TwitterListResponse' in vartype:\n",
    "        print \"TwitterListResponse\"\n",
    "        tweet_list = Tweet_from_TwitterListResponse(json_output)\n",
    "    elif 'TwitterDictResponse' in vartype:\n",
    "        print \"dictionary\"\n",
    "        tweet_list = Tweet_from_TwitterReesponseObject(json_output)\n",
    "    else:\n",
    "        print vartype, '**error'\n",
    "    \n",
    "    ## print the text from each tweet - debugging\n",
    "    #for tweet in tweet_list:\n",
    "     #   tweet.display_all()\n",
    "    return tweet_list\n",
    "\n",
    "classifyJSONtype(json_output)    "
   ]
  },
  {
   "cell_type": "markdown",
   "metadata": {},
   "source": [
    "##Helper Methods to Create TUsers_List with User Class"
   ]
  },
  {
   "cell_type": "code",
   "execution_count": 77,
   "metadata": {
    "collapsed": false
   },
   "outputs": [
    {
     "name": "stdout",
     "output_type": "stream",
     "text": [
      "[1569103676]\n"
     ]
    }
   ],
   "source": [
    "# create list of unique user_ids from all statuses \n",
    "user_id_list = []\n",
    "for i in range(len(json_output['statuses'])):\n",
    "    user_id  =(json_output['statuses'][i]['user']['id'] )\n",
    "    if user_id not in user_id_list:\n",
    "        user_id_list.append(user_id)\n",
    "        \n",
    "print user_id_list"
   ]
  },
  {
   "cell_type": "code",
   "execution_count": 78,
   "metadata": {
    "collapsed": false
   },
   "outputs": [
    {
     "name": "stdout",
     "output_type": "stream",
     "text": [
      "curiositybits 1569103676 32\n",
      "curiositybits 1569103676 32\n"
     ]
    }
   ],
   "source": [
    "# create instance of From_User class for each unique FromUserID \n",
    "# go through list of unique user_ids and create a user class for each one\n",
    "\n",
    "#creates a user for EVERY status\n",
    "\n",
    "FromUser_list = []\n",
    "for i in range(len(json_output['statuses'])):\n",
    "    user_id  =(json_output['statuses'][i]['user']['id'] )\n",
    "    if user_id in user_id_list:\n",
    "        FromUser_list.append(From_User(json_output['statuses'][i]))\n",
    "for user in FromUser_list:\n",
    "    user.display_some() "
   ]
  },
  {
   "cell_type": "code",
   "execution_count": 79,
   "metadata": {
    "collapsed": true
   },
   "outputs": [],
   "source": [
    "## TODO - helper method for gathering entioned & retweted users"
   ]
  },
  {
   "cell_type": "markdown",
   "metadata": {},
   "source": [
    "##TO sqllite"
   ]
  },
  {
   "cell_type": "code",
   "execution_count": null,
   "metadata": {
    "collapsed": true
   },
   "outputs": [],
   "source": []
  },
  {
   "cell_type": "code",
   "execution_count": null,
   "metadata": {
    "collapsed": true
   },
   "outputs": [],
   "source": []
  },
  {
   "cell_type": "markdown",
   "metadata": {},
   "source": [
    "## Main"
   ]
  },
  {
   "cell_type": "code",
   "execution_count": 25,
   "metadata": {
    "collapsed": true
   },
   "outputs": [],
   "source": [
    "## TO DO"
   ]
  },
  {
   "cell_type": "code",
   "execution_count": 67,
   "metadata": {
    "collapsed": false
   },
   "outputs": [],
   "source": []
  },
  {
   "cell_type": "code",
   "execution_count": null,
   "metadata": {
    "collapsed": false
   },
   "outputs": [],
   "source": []
  },
  {
   "cell_type": "code",
   "execution_count": null,
   "metadata": {
    "collapsed": true
   },
   "outputs": [],
   "source": []
  },
  {
   "cell_type": "code",
   "execution_count": null,
   "metadata": {
    "collapsed": false
   },
   "outputs": [],
   "source": []
  },
  {
   "cell_type": "code",
   "execution_count": null,
   "metadata": {
    "collapsed": true
   },
   "outputs": [],
   "source": []
  }
 ],
 "metadata": {
  "kernelspec": {
   "display_name": "Python 2",
   "language": "python",
   "name": "python2"
  },
  "language_info": {
   "codemirror_mode": {
    "name": "ipython",
    "version": 2
   },
   "file_extension": ".py",
   "mimetype": "text/x-python",
   "name": "python",
   "nbconvert_exporter": "python",
   "pygments_lexer": "ipython2",
   "version": "2.7.10"
  }
 },
 "nbformat": 4,
 "nbformat_minor": 0
}
